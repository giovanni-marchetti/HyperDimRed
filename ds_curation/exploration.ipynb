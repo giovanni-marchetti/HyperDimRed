{
 "cells": [
  {
   "metadata": {},
   "cell_type": "markdown",
   "source": "### gslf",
   "id": "f544d9d5f40df311"
  },
  {
   "metadata": {
    "ExecuteTime": {
     "end_time": "2024-11-09T21:17:31.354695Z",
     "start_time": "2024-11-09T21:17:31.350319Z"
    }
   },
   "cell_type": "code",
   "source": [
    "import sys\n",
    "sys.path.append('../')\n",
    "import pandas as pd\n",
    "import numpy as np\n",
    "import matplotlib.pyplot as plt\n",
    "import seaborn as sns\n",
    "import os\n",
    "import sys\n",
    "import re\n",
    "import json\n",
    "from constants import *\n",
    "#fix constants import\n",
    "import ast\n",
    "from utils import *\n",
    "from utils.helpers import *\n"
   ],
   "id": "2b7e3ec1c62e88b8",
   "outputs": [],
   "execution_count": 26
  },
  {
   "metadata": {
    "ExecuteTime": {
     "end_time": "2024-11-09T21:17:47.836887Z",
     "start_time": "2024-11-09T21:17:31.547119Z"
    }
   },
   "cell_type": "code",
   "source": [
    "# Load the data\n",
    "data = pd.read_csv('../data/embeddings/molformer/gslf_molformer_embeddings_13_Apr17.csv')\n",
    "data = prepare_dataset(data)"
   ],
   "id": "5fbbdb2e7b59dfdb",
   "outputs": [],
   "execution_count": 27
  },
  {
   "metadata": {
    "ExecuteTime": {
     "end_time": "2024-11-09T21:17:47.887751Z",
     "start_time": "2024-11-09T21:17:47.838750Z"
    }
   },
   "cell_type": "code",
   "source": [
    "#convert data.y to numpy array\n",
    "labels = data.y.to_numpy()\n",
    "arrs = []\n",
    "for ar in labels:\n",
    "    arrs.append(np.asarray(ar))\n",
    "labels= np.asarray(arrs)"
   ],
   "id": "4be894231c649dc2",
   "outputs": [],
   "execution_count": 28
  },
  {
   "metadata": {
    "ExecuteTime": {
     "end_time": "2024-11-09T21:17:47.893368Z",
     "start_time": "2024-11-09T21:17:47.889043Z"
    }
   },
   "cell_type": "code",
   "source": [
    "# Original\n",
    "#     \"Flavors\": {\n",
    "#         \"Fruits\": {\n",
    "#             \"Citrus\": ['bergamot', 'citrus', 'grapefruit', 'lemon', 'orange'],\n",
    "#             \"Berries\": ['berry', 'black currant', 'raspberry', 'strawberry'],\n",
    "#             \"Tropical\": ['banana', 'coconut', 'pineapple', 'tropical'],\n",
    "#             \"Stone Fruits\": ['apricot', 'cherry', 'peach', 'plum'],\n",
    "#             \"Other Fruits\": ['apple', 'grape', 'melon', 'pear']\n",
    "#         },\n",
    "#         \"Vegetables\": {\n",
    "#             \"Leafy\": ['cabbage', 'celery', 'leafy'],\n",
    "#             \"Root\": ['onion', 'potato', 'radish'],\n",
    "#             \"Other Vegetables\": ['cucumber', 'garlic', 'tomato', 'vegetable']\n",
    "#         },\n",
    "#         \"Nuts & Seeds\": ['almond', 'hazelnut', 'nutty'],\n",
    "#         \"Dairy & Creamy\": {\n",
    "#             \"Dairy\": ['dairy', 'milky'],\n",
    "#             \"Creamy Textures\": ['buttery', 'cheesy', 'creamy']\n",
    "#         },\n",
    "#         \"Meaty & Savory\": {\n",
    "#             \"Meaty\": ['beefy', 'meaty'],\n",
    "#             \"Savory\": ['roasted', 'savory']\n",
    "#         },\n",
    "#         \"Herbs & Spices\": {\n",
    "#             \"Herbs\": ['chamomile', 'herbal', 'lavender', 'mint', 'tea'],\n",
    "#             \"Spices\": ['cinnamon', 'clove', 'spicy'],\n",
    "#             \"Floral\": ['rose', 'geranium', 'jasmin', 'violet', 'hyacinth', 'muguet']\n",
    "#         },\n",
    "#         \"Sweet & Confectionary\": {\n",
    "#             \"Sweet\": ['sweet', 'honey', 'juicy'],\n",
    "#             \"Confectionary\": ['caramellic', 'chocolate', 'cocoa', 'vanilla']\n",
    "#         },\n",
    "#         \"Alcoholic Beverages\": ['alcoholic', 'brandy', 'cognac', 'winey', 'rummy'],\n",
    "#     },\n",
    "#     \"Aromatics & Scents\": {\n",
    "#         \"Animalic\": ['animal', 'musk', 'sweaty'],\n",
    "#         \"Earthy & Woody\": ['earthy', 'woody', 'mushroom', 'green', 'grassy', 'hay', 'cedar', 'sandalwood', 'vetiver'],\n",
    "#         \"Floral\": ['floral', 'orangeflower', 'lily', 'rose', 'jasmin', 'geranium', 'violet', 'hyacinth', 'muguet'],\n",
    "#         \"Fruity & Fresh\": ['apple', 'fruit skin', 'fresh', 'fruity', 'juicy', 'ripe', 'tropical'],\n",
    "#         \"Herbal\": ['herbal', 'mint', 'tea', 'lavender', 'chamomile'],\n",
    "#         \"Balsamic & Resinous\": ['amber', 'balsamic', 'camphoreous', 'coumarinic'],\n",
    "#         \"Spicy & Pungent\": ['alliaceous', 'clove', 'cinnamon', 'spicy', 'sharp', 'pungent'],\n",
    "#         \"Sweet & Nutty\": ['honey', 'almond', 'nutty', 'caramellic', 'chocolate', 'cocoa', 'vanilla']\n",
    "#     },\n",
    "#     \"Tastes & Textures\": {\n",
    "#         \"Basic Tastes\": ['bitter', 'sour', 'sweet', 'savory'],\n",
    "#         \"Textures\": {\n",
    "#             \"Creamy\": ['buttery', 'cheesy', 'creamy'],\n",
    "#             \"Fatty\": ['fatty', 'oily'],\n",
    "#             \"Cooling\": ['cooling'],\n",
    "#             \"Dry & Powdery\": ['dry', 'powdery'],\n",
    "#             \"Metallic\": ['metallic'],\n",
    "#             \"Waxy\": ['waxy']\n",
    "#         }\n",
    "#     },\n",
    "#     \"Chemicals & Other Characteristics\": {\n",
    "#         \"Aldehydic & Ketonic\": ['aldehydic', 'ketonic'],\n",
    "#         \"Animalic\": ['animal', 'musk', 'sweaty'],\n",
    "#         \"Fermented\": ['fermented'],\n",
    "#         \"Medicinal & Phenolic\": ['medicinal', 'phenolic', 'medicinal'],\n",
    "#         \"Sulfurous & Pungent\": ['sulfurous', 'garlic', 'alliaceous'],\n",
    "#         \"Gaseous\": ['gassy', 'ozone'],\n",
    "#         \"Burnt & Smoky\": ['burnt', 'smoky'],\n",
    "#         \"Natural & Fresh\": ['natural', 'fresh'],\n",
    "#         \"Musty & Earthy\": ['musty', 'earthy'],\n",
    "#         \"Other\": ['odorless', 'solvent', 'soapy', 'clean']\n",
    "#     }\n",
    "# }"
   ],
   "id": "73613c060d710b37",
   "outputs": [],
   "execution_count": 29
  },
  {
   "metadata": {},
   "cell_type": "code",
   "outputs": [],
   "execution_count": null,
   "source": [
    "# Updated\n",
    "# gs_lf_tasks_hierarchy = {\n",
    "#     \"Flavors\": {\n",
    "#         \"fruity\": {\n",
    "#             'citrus': ['bergamot', 'grapefruit', 'lemon', 'orange'],\n",
    "#             \"berry\": [ 'black currant', 'raspberry', 'strawberry'],\n",
    "#             'tropical': ['banana', 'coconut', 'pineapple' ],\n",
    "#             \"Stone Fruits\": ['apricot', 'cherry', 'peach', 'plum'],\n",
    "#             \"Other Fruits\": ['apple', 'grape', 'melon', 'pear']\n",
    "#         },\n",
    "#         \"vegetable\": {\n",
    "#             'leafy': ['cabbage', 'celery' ],\n",
    "#             \"Root\": ['onion', 'potato', 'radish'],\n",
    "#             \"Other Vegetables\": ['cucumber', 'garlic', 'tomato']\n",
    "#         },\n",
    "#         'nutty': ['almond', 'hazelnut' ],\n",
    "#         \"Dairy & Creamy\": {\n",
    "#             \"Dairy\": ['dairy', 'milky'],\n",
    "#             'creamy': ['buttery', 'cheesy' ]\n",
    "#         },\n",
    "#         \"Meaty & Savory\": {\n",
    "#             \"Meaty\": ['beefy', 'meaty'],\n",
    "#             \"Savory\": ['roasted', 'savory']\n",
    "#         },\n",
    "#         \"Herbs & Spices\": {\n",
    "#             'herbal': ['chamomile', 'lavender', 'mint', 'tea'],\n",
    "#             'spicy': ['cinnamon', 'clove'],\n",
    "#             \"floral\": ['rose', 'geranium', 'jasmin', 'violet', 'hyacinth', 'muguet']\n",
    "#         },\n",
    "#         \"Sweet & Confectionary\": {\n",
    "#             'sweet': ['honey', 'juicy'],\n",
    "#             \"Confectionary\": ['caramellic', 'chocolate', 'cocoa', 'vanilla']\n",
    "#         },\n",
    "#         'alcoholic': ['brandy', 'cognac', 'winey', 'rummy'],\n",
    "#     },\n",
    "#     \"Aromatics & Scents\": {\n",
    "#         \"Animalic\": ['animal', 'musk', 'sweaty'],\n",
    "#         \"Earthy & Woody\": ['earthy', 'woody', 'mushroom', 'green', 'grassy', 'hay', 'cedar', 'sandalwood', 'vetiver'],\n",
    "#         \"Floral\": ['floral', 'orangeflower', 'lily', 'rose', 'jasmin', 'geranium', 'violet', 'hyacinth', 'muguet'],\n",
    "#         \"Fruity & Fresh\": ['apple', 'fruit skin', 'fresh', 'fruity', 'juicy', 'ripe', 'tropical'],\n",
    "#         \"herbal\": ['herbal', 'mint', 'tea', 'lavender', 'chamomile'],\n",
    "#         \"Balsamic & Resinous\": ['amber', 'balsamic', 'camphoreous', 'coumarinic'],\n",
    "#         'spicy': ['alliaceous', 'clove', 'cinnamon', 'sharp', 'pungent'],\n",
    "#         \"Sweet & Nutty\": ['honey', 'almond', 'nutty', 'caramellic', 'chocolate', 'cocoa', 'vanilla']\n",
    "#     },\n",
    "#     \"Tastes & Textures\": {\n",
    "#         \"Basic Tastes\": ['bitter', 'sour', 'sweet', 'savory'],\n",
    "#         \"Textures\": {\n",
    "#             \"Creamy\": ['buttery', 'cheesy', 'creamy'],\n",
    "#             \"Fatty\": ['fatty', 'oily'],\n",
    "#             \"Cooling\": ['cooling'],\n",
    "#             \"Dry & Powdery\": ['dry', 'powdery'],\n",
    "#             \"Metallic\": ['metallic'],\n",
    "#             \"Waxy\": ['waxy']\n",
    "#         }\n",
    "#     },\n",
    "#     \"Chemicals & Other Characteristics\": {\n",
    "#         \"Aldehydic & Ketonic\": ['aldehydic', 'ketonic'],\n",
    "#         \"Animalic\": ['animal', 'musk', 'sweaty'],\n",
    "#         \"Fermented\": ['fermented'],\n",
    "#         \"Medicinal & Phenolic\": ['medicinal', 'phenolic', 'medicinal'],\n",
    "#         \"Sulfurous & Pungent\": ['sulfurous', 'garlic', 'alliaceous'],\n",
    "#         \"Gaseous\": ['gassy', 'ozone'],\n",
    "#         \"Burnt & Smoky\": ['burnt', 'smoky'],\n",
    "#         \"Natural & Fresh\": ['natural', 'fresh'],\n",
    "#         \"Musty & Earthy\": ['musty', 'earthy'],\n",
    "#         \"Other\": ['odorless', 'solvent', 'soapy', 'clean']\n",
    "#     }\n",
    "# }"
   ],
   "id": "e71631ad68229488"
  },
  {
   "metadata": {
    "ExecuteTime": {
     "end_time": "2024-11-09T21:17:47.899039Z",
     "start_time": "2024-11-09T21:17:47.895932Z"
    }
   },
   "cell_type": "code",
   "source": [
    "# labels  = {\"fruity\": {\n",
    "#          'citrus': ['bergamot', 'grapefruit', 'lemon', 'orange'],\n",
    "#          \"berry\": [ 'black currant', 'raspberry', 'strawberry'],\n",
    "#          'tropical': ['banana', 'coconut', 'pineapple' ],\n",
    "#      }}\n"
   ],
   "id": "d7de4111627c0d67",
   "outputs": [],
   "execution_count": 30
  },
  {
   "metadata": {
    "ExecuteTime": {
     "end_time": "2024-11-09T21:17:47.903431Z",
     "start_time": "2024-11-09T21:17:47.900548Z"
    }
   },
   "cell_type": "code",
   "source": [
    "selected_labels = [\"bergamot\", \"grapefruit\", \"lemon\", \"orange\", \"black currant\", \"raspberry\", \"strawberry\", \"banana\", \"coconut\", \"pineapple\",\"tropical\",\"berry\", \"citrus\",\"fruity\"]\n",
    "#find indices of labels in gs_lf_tasks\n",
    "indices = [gs_lf_tasks.index(label) for label in selected_labels]\n",
    "#select rows at least one index is in indices list\n",
    "filtered_labels = labels[np.any(labels[:,indices], axis=1)]"
   ],
   "id": "409c00055b5c3bfb",
   "outputs": [],
   "execution_count": 31
  },
  {
   "metadata": {
    "ExecuteTime": {
     "end_time": "2024-11-09T21:18:50.592888Z",
     "start_time": "2024-11-09T21:18:50.588636Z"
    }
   },
   "cell_type": "code",
   "source": [
    "map_labels = {}\n",
    "for i,index in enumerate(indices):\n",
    "    #get indices of the rows where column i is 1\n",
    "    selected_indices = np.where(labels[:,i]==1)[0]\n",
    "    map_labels[selected_labels[i]] = selected_indices"
   ],
   "id": "a9807123603b51ec",
   "outputs": [],
   "execution_count": 41
  },
  {
   "metadata": {
    "ExecuteTime": {
     "end_time": "2024-11-09T21:18:57.571426Z",
     "start_time": "2024-11-09T21:18:57.568261Z"
    }
   },
   "cell_type": "code",
   "source": [
    "for key, value in map_labels.items():\n",
    "    print(key, len(value))"
   ],
   "id": "179e1dd61d24a542",
   "outputs": [
    {
     "name": "stdout",
     "output_type": "stream",
     "text": [
      "bergamot 105\n",
      "grapefruit 144\n",
      "lemon 126\n",
      "orange 87\n",
      "black currant 101\n",
      "raspberry 124\n",
      "strawberry 87\n",
      "banana 308\n",
      "coconut 78\n",
      "pineapple 76\n",
      "tropical 298\n",
      "berry 128\n",
      "citrus 43\n",
      "fruity 32\n"
     ]
    }
   ],
   "execution_count": 43
  },
  {
   "metadata": {
    "ExecuteTime": {
     "end_time": "2024-11-09T21:25:11.913452Z",
     "start_time": "2024-11-09T21:25:11.895526Z"
    }
   },
   "cell_type": "code",
   "source": [
    "#find intersection of the indices raspberry and strawberry\n",
    "\n",
    "raspberry = map_labels[\"raspberry\"]\n",
    "strawberry = map_labels[\"fruity\"]\n",
    "banana = map_labels[\"banana\"]\n",
    "coconut = map_labels[\"coconut\"]\n",
    "pineapple = map_labels[\"pineapple\"]\n",
    "tropical = map_labels[\"tropical\"]\n",
    "berry = map_labels[\"berry\"]\n",
    "citrus = map_labels[\"citrus\"]\n",
    "fruity = map_labels[\"fruity\"]\n",
    "bergamot = map_labels[\"bergamot\"]\n",
    "grapefruit = map_labels[\"grapefruit\"]\n",
    "lemon = map_labels[\"lemon\"]\n",
    "orange = map_labels[\"orange\"]\n",
    "black_currant = map_labels[\"black currant\"]\n",
    "\n",
    "\n",
    "print(\"fruity\",\"strawberry\", len(np.intersect1d(fruity, strawberry)))\n",
    "print(\"fruity\",\"raspberry\", len(np.intersect1d(fruity, raspberry)))\n",
    "print(\"fruity\",\"banana\", len(np.intersect1d(fruity, banana)))\n",
    "print(\"fruity\",\"coconut\", len(np.intersect1d(fruity, coconut)))\n",
    "print(\"fruity\",\"pineapple\", len(np.intersect1d(fruity, pineapple)))\n",
    "print(\"fruity\",\"tropical\", len(np.intersect1d(fruity, tropical)))\n",
    "print(\"fruity\",\"berry\", len(np.intersect1d(fruity, berry)))\n",
    "print(\"fruity\",\"citrus\", len(np.intersect1d(fruity, citrus)))\n",
    "print(\"fruity\",\"bergamot\", len(np.intersect1d(fruity, bergamot)))\n",
    "print(\"fruity\",\"grapefruit\", len(np.intersect1d(fruity, grapefruit)))\n",
    "print(\"fruity\",\"lemon\", len(np.intersect1d(fruity, lemon)))\n",
    "print(\"fruity\",\"orange\", len(np.intersect1d(fruity, orange)))\n",
    "print(\"fruity\",\"black_currant\", len(np.intersect1d(fruity, black_currant)))\n",
    "\n",
    "print(\"berry\",\"strawberry\", len(np.intersect1d(berry, strawberry)))\n",
    "print(\"berry\",\"raspberry\", len(np.intersect1d(berry, raspberry)))\n",
    "print(\"berry\",\"black_currant\", len(np.intersect1d(berry, black_currant)))\n",
    "\n",
    "print(\"citrus\",\"bergamot\", len(np.intersect1d(citrus, bergamot)))\n",
    "print(\"citrus\",\"grapefruit\", len(np.intersect1d(citrus, grapefruit)))\n",
    "print(\"citrus\",\"lemon\", len(np.intersect1d(citrus, lemon)))\n",
    "print(\"citrus\",\"orange\", len(np.intersect1d(citrus, orange)))\n",
    "\n",
    "print(\"tropical\",\"banana\", len(np.intersect1d(tropical, banana)))\n",
    "print(\"tropical\",\"coconut\", len(np.intersect1d(tropical, coconut)))\n",
    "print(\"tropical\",\"pineapple\", len(np.intersect1d(tropical, pineapple)))\n"
   ],
   "id": "3b1877d8010017e2",
   "outputs": [
    {
     "name": "stdout",
     "output_type": "stream",
     "text": [
      "fruity strawberry 32\n",
      "fruity raspberry 0\n",
      "fruity banana 4\n",
      "fruity coconut 2\n",
      "fruity pineapple 0\n",
      "fruity tropical 0\n",
      "fruity berry 1\n",
      "fruity citrus 0\n",
      "fruity bergamot 0\n",
      "fruity grapefruit 2\n",
      "fruity lemon 0\n",
      "fruity orange 0\n",
      "fruity black_currant 0\n",
      "berry strawberry 1\n",
      "berry raspberry 1\n",
      "berry black_currant 0\n",
      "citrus bergamot 0\n",
      "citrus grapefruit 0\n",
      "citrus lemon 4\n",
      "citrus orange 0\n",
      "tropical banana 8\n",
      "tropical coconut 5\n",
      "tropical pineapple 6\n"
     ]
    }
   ],
   "execution_count": 52
  }
 ],
 "metadata": {
  "kernelspec": {
   "display_name": "Python 3",
   "language": "python",
   "name": "python3"
  },
  "language_info": {
   "codemirror_mode": {
    "name": "ipython",
    "version": 2
   },
   "file_extension": ".py",
   "mimetype": "text/x-python",
   "name": "python",
   "nbconvert_exporter": "python",
   "pygments_lexer": "ipython2",
   "version": "2.7.6"
  }
 },
 "nbformat": 4,
 "nbformat_minor": 5
}
