{
 "cells": [
  {
   "cell_type": "code",
   "execution_count": 1,
   "id": "1d7e9ccb",
   "metadata": {},
   "outputs": [
    {
     "ename": "TypeError",
     "evalue": "loss_fun() got an unexpected keyword argument 'negative_sample_ratio'",
     "output_type": "error",
     "traceback": [
      "\u001b[0;31m---------------------------------------------------------------------------\u001b[0m",
      "\u001b[0;31mTypeError\u001b[0m                                 Traceback (most recent call last)",
      "\u001b[0;32m/tmp/ipykernel_80605/1726306567.py\u001b[0m in \u001b[0;36m<module>\u001b[0;34m\u001b[0m\n\u001b[1;32m     63\u001b[0m         \u001b[0moptimizer\u001b[0m\u001b[0;34m.\u001b[0m\u001b[0mzero_grad\u001b[0m\u001b[0;34m(\u001b[0m\u001b[0;34m)\u001b[0m\u001b[0;34m\u001b[0m\u001b[0;34m\u001b[0m\u001b[0m\n\u001b[1;32m     64\u001b[0m         \u001b[0;31m#loss = model.loss_fun(data_dist_matrix)\u001b[0m\u001b[0;34m\u001b[0m\u001b[0;34m\u001b[0m\u001b[0;34m\u001b[0m\u001b[0m\n\u001b[0;32m---> 65\u001b[0;31m         \u001b[0mloss\u001b[0m \u001b[0;34m=\u001b[0m \u001b[0mmodel\u001b[0m\u001b[0;34m.\u001b[0m\u001b[0mloss_fun\u001b[0m\u001b[0;34m(\u001b[0m\u001b[0mdata_binary_matrix\u001b[0m\u001b[0;34m,\u001b[0m \u001b[0mnegative_sample_ratio\u001b[0m\u001b[0;34m=\u001b[0m\u001b[0;36m0.5\u001b[0m\u001b[0;34m)\u001b[0m\u001b[0;34m\u001b[0m\u001b[0;34m\u001b[0m\u001b[0m\n\u001b[0m\u001b[1;32m     66\u001b[0m \u001b[0;34m\u001b[0m\u001b[0m\n\u001b[1;32m     67\u001b[0m         \u001b[0mloss\u001b[0m\u001b[0;34m.\u001b[0m\u001b[0mbackward\u001b[0m\u001b[0;34m(\u001b[0m\u001b[0;34m)\u001b[0m\u001b[0;34m\u001b[0m\u001b[0;34m\u001b[0m\u001b[0m\n",
      "\u001b[0;31mTypeError\u001b[0m: loss_fun() got an unexpected keyword argument 'negative_sample_ratio'"
     ]
    }
   ],
   "source": [
    "import torch \n",
    "from torch.linalg import vector_norm\n",
    "from sklearn.neighbors import kneighbors_graph\n",
    "from scipy.sparse.csgraph import dijkstra\n",
    "\n",
    "from distances import *\n",
    "from methods import * \n",
    "from optimizers import * \n",
    "\n",
    "\n",
    "latent_dim = 2\n",
    "lr = 0.01\n",
    "num_epochs = 1000\n",
    "normalize = True\n",
    "\n",
    "geodesic = True\n",
    "min_dist = 1.\n",
    "\n",
    "data = torch.randn(50, 50)\n",
    "data_dist_matrix = dist_matrix(data, Euclidean)\n",
    "\n",
    "#IsoMap-style geodesic distance for data\n",
    "if geodesic:\n",
    "#     truncated_matrix = torch.where(data_dist_matrix < min_dist, data_dist_matrix, torch.inf)\n",
    "#     data_dist_matrix = dijkstra(truncated_matrix.detach().cpu().numpy())\n",
    "#     data_dist_matrix = torch.FloatTensor(data_dist_matrix)\n",
    "#     data_dist_matrix = torch.where(data_dist_matrix == torch.inf, 1000 * torch.ones_like(data_dist_matrix), data_dist_matrix)\n",
    "    \n",
    "    data_nn_matrix = kneighbors_graph(data, 3, mode='distance', include_self=False)\n",
    "    data_nn_matrix = data_nn_matrix.toarray()\n",
    "    data_dist_matrix = dijkstra(data_nn_matrix)\n",
    "    data_dist_matrix = torch.FloatTensor(data_dist_matrix)\n",
    "    data_dist_matrix = torch.where(data_dist_matrix == torch.inf, 1000 * torch.ones_like(data_dist_matrix), data_dist_matrix)\n",
    "       \n",
    "    \n",
    "\n",
    "# torch.manual_seed(42)       \n",
    "# torch.cuda.empty_cache()\n",
    "# device = torch.device(\"cuda\" if torch.cuda.is_available() else \"cpu\")\n",
    "# print('Using device: ', device)\n",
    "\n",
    "    \n",
    "\n",
    "\n",
    "#model = MDS(data.shape[0], latent_dim, Poincare)\n",
    "#model = Isomap(data.shape[0], latent_dim, Poincare)\n",
    "\n",
    "data_binary_matrix = (data_nn_matrix > 0.).astype(int)\n",
    "model = Contrastive(data.shape[0], latent_dim, Poincare)\n",
    "\n",
    "\n",
    "\n",
    "#optimizer = StandardOptim(model, lr=lr)\n",
    "optimizer = PoincareOptim(model, lr=lr)\n",
    "\n",
    "if __name__ == \"__main__\":\n",
    "    for i in range(num_epochs):\n",
    "        if normalize:\n",
    "            model.normalize()\n",
    "\n",
    "        # print('norms', vector_norm(model.embeddings, dim=-1).mean().item(), vector_norm(model.embeddings, dim=-1).max().item())\n",
    "\n",
    "        optimizer.zero_grad()\n",
    "        #loss = model.loss_fun(data_dist_matrix)\n",
    "        loss = model.loss_fun(data_binary_matrix)\n",
    "\n",
    "        loss.backward()\n",
    "        # print('grads', vector_norm(model.embeddings.grad, dim=-1).mean().item())\n",
    "        optimizer.step()\n",
    "        \n",
    "\n",
    "        if i % 10 == 0:\n",
    "            print(f'Epoch {i}, loss: {loss:.3f}')\n",
    "\n"
   ]
  },
  {
   "cell_type": "code",
   "execution_count": 8,
   "id": "f94bcfab",
   "metadata": {},
   "outputs": [
    {
     "data": {
      "text/plain": [
       "10"
      ]
     },
     "execution_count": 8,
     "metadata": {},
     "output_type": "execute_result"
    }
   ],
   "source": [
    "data.shape[0]"
   ]
  },
  {
   "cell_type": "code",
   "execution_count": 2,
   "id": "bc2b2f18",
   "metadata": {},
   "outputs": [
    {
     "name": "stdout",
     "output_type": "stream",
     "text": [
      "1.13.1+cu117\n"
     ]
    }
   ],
   "source": [
    "import torch\n",
    "print(torch.__version__)"
   ]
  },
  {
   "cell_type": "code",
   "execution_count": 8,
   "id": "6e21d7d8",
   "metadata": {},
   "outputs": [
    {
     "name": "stdout",
     "output_type": "stream",
     "text": [
      "data_binary_dist_matrix [[0 0 0 ... 0 0 0]\n",
      " [0 0 0 ... 0 0 0]\n",
      " [0 0 0 ... 0 0 0]\n",
      " ...\n",
      " [0 0 0 ... 0 0 0]\n",
      " [0 0 0 ... 0 0 0]\n",
      " [0 0 1 ... 0 0 0]]\n",
      "negative_pairs [[ True  True  True ...  True  True  True]\n",
      " [ True  True  True ...  True  True  True]\n",
      " [ True  True  True ...  True  True  True]\n",
      " ...\n",
      " [ True  True  True ...  True  True  True]\n",
      " [ True  True  True ...  True  True  True]\n",
      " [ True  True False ...  True  True  True]]\n",
      "negative_pair_indices (array([ 0,  0,  0, ..., 49, 49, 49]), array([ 0,  1,  2, ..., 47, 48, 49]))\n"
     ]
    },
    {
     "ename": "AttributeError",
     "evalue": "'tuple' object has no attribute 'size'",
     "output_type": "error",
     "traceback": [
      "\u001b[0;31m---------------------------------------------------------------------------\u001b[0m",
      "\u001b[0;31mAttributeError\u001b[0m                            Traceback (most recent call last)",
      "\u001b[0;32m/tmp/ipykernel_76635/232109467.py\u001b[0m in \u001b[0;36m<module>\u001b[0;34m\u001b[0m\n\u001b[1;32m      5\u001b[0m \u001b[0mnegative_pair_indices\u001b[0m \u001b[0;34m=\u001b[0m \u001b[0mnegative_pairs\u001b[0m\u001b[0;34m.\u001b[0m\u001b[0mnonzero\u001b[0m\u001b[0;34m(\u001b[0m\u001b[0;34m)\u001b[0m\u001b[0;34m\u001b[0m\u001b[0;34m\u001b[0m\u001b[0m\n\u001b[1;32m      6\u001b[0m \u001b[0mprint\u001b[0m\u001b[0;34m(\u001b[0m\u001b[0;34m'negative_pair_indices'\u001b[0m\u001b[0;34m,\u001b[0m \u001b[0mnegative_pair_indices\u001b[0m\u001b[0;34m)\u001b[0m\u001b[0;34m\u001b[0m\u001b[0;34m\u001b[0m\u001b[0m\n\u001b[0;32m----> 7\u001b[0;31m \u001b[0mnum_negative_pairs\u001b[0m \u001b[0;34m=\u001b[0m \u001b[0mnegative_pair_indices\u001b[0m\u001b[0;34m.\u001b[0m\u001b[0msize\u001b[0m\u001b[0;34m(\u001b[0m\u001b[0;36m0\u001b[0m\u001b[0;34m)\u001b[0m\u001b[0;34m\u001b[0m\u001b[0;34m\u001b[0m\u001b[0m\n\u001b[0m\u001b[1;32m      8\u001b[0m \u001b[0mprint\u001b[0m\u001b[0;34m(\u001b[0m\u001b[0;34m'num_negative_pairs'\u001b[0m\u001b[0;34m,\u001b[0m \u001b[0mnum_negative_pairs\u001b[0m\u001b[0;34m)\u001b[0m\u001b[0;34m\u001b[0m\u001b[0;34m\u001b[0m\u001b[0m\n",
      "\u001b[0;31mAttributeError\u001b[0m: 'tuple' object has no attribute 'size'"
     ]
    }
   ],
   "source": [
    "        data_binary_dist_matrix = data_binary_matrix\n",
    "        print('data_binary_dist_matrix', data_binary_dist_matrix)\n",
    "        negative_pairs = data_binary_dist_matrix == 0\n",
    "        print('negative_pairs', negative_pairs)\n",
    "        negative_pair_indices = negative_pairs.nonzero()\n",
    "        print('negative_pair_indices', negative_pair_indices)\n",
    "        num_negative_pairs = negative_pair_indices.size(0)\n",
    "        print('num_negative_pairs', num_negative_pairs)"
   ]
  },
  {
   "cell_type": "code",
   "execution_count": 9,
   "id": "623756ef",
   "metadata": {},
   "outputs": [
    {
     "data": {
      "text/plain": [
       "(array([ 0,  0,  0, ..., 49, 49, 49]), array([ 0,  1,  2, ..., 47, 48, 49]))"
      ]
     },
     "execution_count": 9,
     "metadata": {},
     "output_type": "execute_result"
    }
   ],
   "source": [
    "negative_pair_indices"
   ]
  },
  {
   "cell_type": "code",
   "execution_count": 14,
   "id": "93311376",
   "metadata": {},
   "outputs": [
    {
     "data": {
      "text/plain": [
       "2350"
      ]
     },
     "execution_count": 14,
     "metadata": {},
     "output_type": "execute_result"
    }
   ],
   "source": [
    "len(negative_pair_indices[1]) "
   ]
  },
  {
   "cell_type": "code",
   "execution_count": null,
   "id": "1b166a7f",
   "metadata": {},
   "outputs": [],
   "source": []
  }
 ],
 "metadata": {
  "kernelspec": {
   "display_name": "Python 3 (ipykernel)",
   "language": "python",
   "name": "python3"
  },
  "language_info": {
   "codemirror_mode": {
    "name": "ipython",
    "version": 3
   },
   "file_extension": ".py",
   "mimetype": "text/x-python",
   "name": "python",
   "nbconvert_exporter": "python",
   "pygments_lexer": "ipython3",
   "version": "3.7.12"
  }
 },
 "nbformat": 4,
 "nbformat_minor": 5
}
