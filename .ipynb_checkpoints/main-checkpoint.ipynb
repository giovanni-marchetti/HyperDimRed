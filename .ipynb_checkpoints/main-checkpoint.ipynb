{
 "cells": [
  {
   "cell_type": "code",
   "execution_count": 10,
   "id": "4d50e9df",
   "metadata": {},
   "outputs": [
    {
     "name": "stdout",
     "output_type": "stream",
     "text": [
      "Epoch 0, loss: 2610.674\n",
      "Epoch 10, loss: 2463.013\n",
      "Epoch 20, loss: 2324.259\n",
      "Epoch 30, loss: 2193.678\n",
      "Epoch 40, loss: 2068.025\n",
      "Epoch 50, loss: 1945.178\n",
      "Epoch 60, loss: 1824.658\n",
      "Epoch 70, loss: 1708.096\n",
      "Epoch 80, loss: 1602.005\n",
      "Epoch 90, loss: 1515.582\n",
      "Epoch 100, loss: 1440.092\n",
      "Epoch 110, loss: 1373.528\n",
      "Epoch 120, loss: 1313.496\n",
      "Epoch 130, loss: 1259.835\n",
      "Epoch 140, loss: 1214.785\n",
      "Epoch 150, loss: 1174.679\n",
      "Epoch 160, loss: 1137.427\n",
      "Epoch 170, loss: 1103.070\n",
      "Epoch 180, loss: 1072.207\n",
      "Epoch 190, loss: 1045.363\n",
      "Epoch 200, loss: 1020.172\n",
      "Epoch 210, loss: 996.919\n",
      "Epoch 220, loss: 975.463\n",
      "Epoch 230, loss: 955.838\n",
      "Epoch 240, loss: 937.442\n",
      "Epoch 250, loss: 920.432\n",
      "Epoch 260, loss: 904.694\n",
      "Epoch 270, loss: 891.453\n",
      "Epoch 280, loss: 880.922\n",
      "Epoch 290, loss: 871.202\n",
      "Epoch 300, loss: 862.494\n",
      "Epoch 310, loss: 854.123\n",
      "Epoch 320, loss: 845.112\n",
      "Epoch 330, loss: 838.060\n",
      "Epoch 340, loss: 830.849\n",
      "Epoch 350, loss: 824.230\n",
      "Epoch 360, loss: 817.352\n",
      "Epoch 370, loss: 811.208\n",
      "Epoch 380, loss: 804.420\n",
      "Epoch 390, loss: 798.591\n",
      "Epoch 400, loss: 793.208\n",
      "Epoch 410, loss: 789.604\n",
      "Epoch 420, loss: 786.796\n",
      "Epoch 430, loss: 784.166\n",
      "Epoch 440, loss: 782.472\n",
      "Epoch 450, loss: 780.409\n",
      "Epoch 460, loss: 779.714\n",
      "Epoch 470, loss: 779.091\n",
      "Epoch 480, loss: 779.038\n",
      "Epoch 490, loss: 778.783\n",
      "Epoch 500, loss: 778.666\n",
      "Epoch 510, loss: 778.258\n",
      "Epoch 520, loss: 778.203\n",
      "Epoch 530, loss: 778.022\n",
      "Epoch 540, loss: 777.812\n",
      "Epoch 550, loss: 777.643\n",
      "Epoch 560, loss: 777.757\n",
      "Epoch 570, loss: 777.567\n",
      "Epoch 580, loss: 777.464\n",
      "Epoch 590, loss: 777.376\n",
      "Epoch 600, loss: 777.209\n",
      "Epoch 610, loss: 777.264\n",
      "Epoch 620, loss: 777.131\n",
      "Epoch 630, loss: 776.921\n",
      "Epoch 640, loss: 776.831\n",
      "Epoch 650, loss: 776.626\n",
      "Epoch 660, loss: 776.697\n",
      "Epoch 670, loss: 776.506\n",
      "Epoch 680, loss: 776.316\n",
      "Epoch 690, loss: 776.155\n",
      "Epoch 700, loss: 775.986\n",
      "Epoch 710, loss: 776.094\n",
      "Epoch 720, loss: 776.088\n",
      "Epoch 730, loss: 776.072\n",
      "Epoch 740, loss: 776.081\n",
      "Epoch 750, loss: 775.985\n",
      "Epoch 760, loss: 776.020\n",
      "Epoch 770, loss: 775.932\n",
      "Epoch 780, loss: 775.822\n",
      "Epoch 790, loss: 775.907\n",
      "Epoch 800, loss: 775.585\n",
      "Epoch 810, loss: 775.844\n",
      "Epoch 820, loss: 775.573\n",
      "Epoch 830, loss: 775.876\n",
      "Epoch 840, loss: 775.755\n",
      "Epoch 850, loss: 775.644\n",
      "Epoch 860, loss: 775.643\n",
      "Epoch 870, loss: 775.723\n",
      "Epoch 880, loss: 775.327\n",
      "Epoch 890, loss: 775.380\n",
      "Epoch 900, loss: 775.759\n",
      "Epoch 910, loss: 775.390\n",
      "Epoch 920, loss: 775.467\n",
      "Epoch 930, loss: 775.539\n",
      "Epoch 940, loss: 775.264\n",
      "Epoch 950, loss: 775.512\n",
      "Epoch 960, loss: 775.426\n",
      "Epoch 970, loss: 775.456\n",
      "Epoch 980, loss: 775.413\n",
      "Epoch 990, loss: 775.476\n"
     ]
    }
   ],
   "source": [
    "import torch \n",
    "from torch.linalg import vector_norm\n",
    "from sklearn.neighbors import kneighbors_graph\n",
    "from scipy.sparse.csgraph import dijkstra\n",
    "\n",
    "from distances import *\n",
    "from methods import * \n",
    "from optimizers import * \n",
    "\n",
    "\n",
    "latent_dim = 2\n",
    "lr = 0.01\n",
    "num_epochs = 1000\n",
    "normalize = True\n",
    "\n",
    "geodesic = True\n",
    "min_dist = 1.\n",
    "\n",
    "data = torch.randn(50, 50)\n",
    "data_dist_matrix = dist_matrix(data, Euclidean)\n",
    "\n",
    "#IsoMap-style geodesic distance for data\n",
    "if geodesic:\n",
    "#     truncated_matrix = torch.where(data_dist_matrix < min_dist, data_dist_matrix, torch.inf)\n",
    "#     data_dist_matrix = dijkstra(truncated_matrix.detach().cpu().numpy())\n",
    "#     data_dist_matrix = torch.FloatTensor(data_dist_matrix)\n",
    "#     data_dist_matrix = torch.where(data_dist_matrix == torch.inf, 1000 * torch.ones_like(data_dist_matrix), data_dist_matrix)\n",
    "    \n",
    "    data_nn_matrix = kneighbors_graph(data, 3, mode='distance', include_self=False)\n",
    "    data_nn_matrix = data_nn_matrix.toarray()\n",
    "    data_dist_matrix = dijkstra(data_nn_matrix)\n",
    "    data_dist_matrix = torch.FloatTensor(data_dist_matrix)\n",
    "    data_dist_matrix = torch.where(data_dist_matrix == torch.inf, 1000 * torch.ones_like(data_dist_matrix), data_dist_matrix)\n",
    "       \n",
    "    \n",
    "\n",
    "# torch.manual_seed(42)       \n",
    "# torch.cuda.empty_cache()\n",
    "# device = torch.device(\"cuda\" if torch.cuda.is_available() else \"cpu\")\n",
    "# print('Using device: ', device)\n",
    "\n",
    "    \n",
    "\n",
    "\n",
    "#model = MDS(data.shape[0], latent_dim, Poincare)\n",
    "#model = Isomap(data.shape[0], latent_dim, Poincare)\n",
    "\n",
    "data_binary_matrix = (data_nn_matrix > 0.).astype(int)\n",
    "model = Contrastive(data.shape[0], latent_dim, Poincare)\n",
    "\n",
    "\n",
    "\n",
    "#optimizer = StandardOptim(model, lr=lr)\n",
    "optimizer = PoincareOptim(model, lr=lr)\n",
    "\n",
    "if __name__ == \"__main__\":\n",
    "    for i in range(num_epochs):\n",
    "        if normalize:\n",
    "            model.normalize()\n",
    "\n",
    "        # print('norms', vector_norm(model.embeddings, dim=-1).mean().item(), vector_norm(model.embeddings, dim=-1).max().item())\n",
    "\n",
    "        optimizer.zero_grad()\n",
    "        #loss = model.loss_fun(data_dist_matrix)\n",
    "        loss = model.loss_fun(data_binary_matrix, temperature=1)\n",
    "\n",
    "        loss.backward()\n",
    "        # print('grads', vector_norm(model.embeddings.grad, dim=-1).mean().item())\n",
    "        optimizer.step()\n",
    "        \n",
    "\n",
    "        if i % 10 == 0:\n",
    "            print(f'Epoch {i}, loss: {loss:.3f}')\n",
    "\n"
   ]
  },
  {
   "cell_type": "code",
   "execution_count": 8,
   "id": "cef0720a",
   "metadata": {},
   "outputs": [
    {
     "data": {
      "text/plain": [
       "10"
      ]
     },
     "execution_count": 8,
     "metadata": {},
     "output_type": "execute_result"
    }
   ],
   "source": [
    "data.shape[0]"
   ]
  },
  {
   "cell_type": "code",
   "execution_count": 2,
   "id": "bd45feaa",
   "metadata": {},
   "outputs": [
    {
     "name": "stdout",
     "output_type": "stream",
     "text": [
      "1.13.1+cu117\n"
     ]
    }
   ],
   "source": [
    "import torch\n",
    "print(torch.__version__)"
   ]
  },
  {
   "cell_type": "code",
   "execution_count": 8,
   "id": "baf87490",
   "metadata": {},
   "outputs": [
    {
     "name": "stdout",
     "output_type": "stream",
     "text": [
      "data_binary_dist_matrix [[0 0 0 ... 0 0 0]\n",
      " [0 0 0 ... 0 0 0]\n",
      " [0 0 0 ... 0 0 0]\n",
      " ...\n",
      " [0 0 0 ... 0 0 0]\n",
      " [0 0 0 ... 0 0 0]\n",
      " [0 0 1 ... 0 0 0]]\n",
      "negative_pairs [[ True  True  True ...  True  True  True]\n",
      " [ True  True  True ...  True  True  True]\n",
      " [ True  True  True ...  True  True  True]\n",
      " ...\n",
      " [ True  True  True ...  True  True  True]\n",
      " [ True  True  True ...  True  True  True]\n",
      " [ True  True False ...  True  True  True]]\n",
      "negative_pair_indices (array([ 0,  0,  0, ..., 49, 49, 49]), array([ 0,  1,  2, ..., 47, 48, 49]))\n"
     ]
    },
    {
     "ename": "AttributeError",
     "evalue": "'tuple' object has no attribute 'size'",
     "output_type": "error",
     "traceback": [
      "\u001b[0;31m---------------------------------------------------------------------------\u001b[0m",
      "\u001b[0;31mAttributeError\u001b[0m                            Traceback (most recent call last)",
      "\u001b[0;32m/tmp/ipykernel_76635/232109467.py\u001b[0m in \u001b[0;36m<module>\u001b[0;34m\u001b[0m\n\u001b[1;32m      5\u001b[0m \u001b[0mnegative_pair_indices\u001b[0m \u001b[0;34m=\u001b[0m \u001b[0mnegative_pairs\u001b[0m\u001b[0;34m.\u001b[0m\u001b[0mnonzero\u001b[0m\u001b[0;34m(\u001b[0m\u001b[0;34m)\u001b[0m\u001b[0;34m\u001b[0m\u001b[0;34m\u001b[0m\u001b[0m\n\u001b[1;32m      6\u001b[0m \u001b[0mprint\u001b[0m\u001b[0;34m(\u001b[0m\u001b[0;34m'negative_pair_indices'\u001b[0m\u001b[0;34m,\u001b[0m \u001b[0mnegative_pair_indices\u001b[0m\u001b[0;34m)\u001b[0m\u001b[0;34m\u001b[0m\u001b[0;34m\u001b[0m\u001b[0m\n\u001b[0;32m----> 7\u001b[0;31m \u001b[0mnum_negative_pairs\u001b[0m \u001b[0;34m=\u001b[0m \u001b[0mnegative_pair_indices\u001b[0m\u001b[0;34m.\u001b[0m\u001b[0msize\u001b[0m\u001b[0;34m(\u001b[0m\u001b[0;36m0\u001b[0m\u001b[0;34m)\u001b[0m\u001b[0;34m\u001b[0m\u001b[0;34m\u001b[0m\u001b[0m\n\u001b[0m\u001b[1;32m      8\u001b[0m \u001b[0mprint\u001b[0m\u001b[0;34m(\u001b[0m\u001b[0;34m'num_negative_pairs'\u001b[0m\u001b[0;34m,\u001b[0m \u001b[0mnum_negative_pairs\u001b[0m\u001b[0;34m)\u001b[0m\u001b[0;34m\u001b[0m\u001b[0;34m\u001b[0m\u001b[0m\n",
      "\u001b[0;31mAttributeError\u001b[0m: 'tuple' object has no attribute 'size'"
     ]
    }
   ],
   "source": [
    "        data_binary_dist_matrix = data_binary_matrix\n",
    "        print('data_binary_dist_matrix', data_binary_dist_matrix)\n",
    "        negative_pairs = data_binary_dist_matrix == 0\n",
    "        print('negative_pairs', negative_pairs)\n",
    "        negative_pair_indices = negative_pairs.nonzero()\n",
    "        print('negative_pair_indices', negative_pair_indices)\n",
    "        num_negative_pairs = negative_pair_indices.size(0)\n",
    "        print('num_negative_pairs', num_negative_pairs)"
   ]
  },
  {
   "cell_type": "code",
   "execution_count": 9,
   "id": "8dfc9d5f",
   "metadata": {},
   "outputs": [
    {
     "data": {
      "text/plain": [
       "(array([ 0,  0,  0, ..., 49, 49, 49]), array([ 0,  1,  2, ..., 47, 48, 49]))"
      ]
     },
     "execution_count": 9,
     "metadata": {},
     "output_type": "execute_result"
    }
   ],
   "source": [
    "negative_pair_indices"
   ]
  },
  {
   "cell_type": "code",
   "execution_count": 14,
   "id": "53fc72ae",
   "metadata": {},
   "outputs": [
    {
     "data": {
      "text/plain": [
       "2350"
      ]
     },
     "execution_count": 14,
     "metadata": {},
     "output_type": "execute_result"
    }
   ],
   "source": [
    "len(negative_pair_indices[1]) "
   ]
  },
  {
   "cell_type": "code",
   "execution_count": null,
   "id": "aa0d2cc1",
   "metadata": {},
   "outputs": [],
   "source": []
  }
 ],
 "metadata": {
  "kernelspec": {
   "display_name": "Python 3 (ipykernel)",
   "language": "python",
   "name": "python3"
  },
  "language_info": {
   "codemirror_mode": {
    "name": "ipython",
    "version": 3
   },
   "file_extension": ".py",
   "mimetype": "text/x-python",
   "name": "python",
   "nbconvert_exporter": "python",
   "pygments_lexer": "ipython3",
   "version": "3.7.12"
  }
 },
 "nbformat": 4,
 "nbformat_minor": 5
}
