{
 "cells": [
  {
   "cell_type": "code",
   "execution_count": null,
   "id": "51f042ea",
   "metadata": {},
   "outputs": [],
   "source": [
    "import torch \n",
    "from torch.linalg import vector_norm\n",
    "from sklearn.neighbors import kneighbors_graph\n",
    "from scipy.sparse.csgraph import dijkstra\n",
    "\n",
    "from distances import *\n",
    "from methods import * \n",
    "from optimizers import * \n",
    "\n",
    "\n",
    "latent_dim = 2\n",
    "lr = 0.01\n",
    "num_epochs = 100000\n",
    "normalize = True\n",
    "\n",
    "geodesic = True\n",
    "min_dist = 1.\n",
    "\n",
    "data = torch.randn(10, 10)\n",
    "data_dist_matrix = dist_matrix(data, Euclidean)\n",
    "\n",
    "#IsoMap-style geodesic distance for data\n",
    "if geodesic:\n",
    "#     truncated_matrix = torch.where(data_dist_matrix < min_dist, data_dist_matrix, torch.inf)\n",
    "#     data_dist_matrix = dijkstra(truncated_matrix.detach().cpu().numpy())\n",
    "#     data_dist_matrix = torch.FloatTensor(data_dist_matrix)\n",
    "#     data_dist_matrix = torch.where(data_dist_matrix == torch.inf, 1000 * torch.ones_like(data_dist_matrix), data_dist_matrix)\n",
    "    \n",
    "    data_nn_matrix = kneighbors_graph(data, 3, mode='distance', include_self=False)\n",
    "    data_nn_matrix = data_nn_matrix.toarray()\n",
    "    data_dist_matrix = dijkstra(data_nn_matrix)\n",
    "    data_dist_matrix = torch.FloatTensor(data_dist_matrix)\n",
    "    data_dist_matrix = torch.where(data_dist_matrix == torch.inf, 1000 * torch.ones_like(data_dist_matrix), data_dist_matrix)\n",
    "       \n",
    "    \n",
    "\n",
    "# torch.manual_seed(42)       \n",
    "# torch.cuda.empty_cache()\n",
    "# device = torch.device(\"cuda\" if torch.cuda.is_available() else \"cpu\")\n",
    "# print('Using device: ', device)\n",
    "\n",
    "    \n",
    "\n",
    "\n",
    "#model = MDS(data.shape[0], latent_dim, Poincare)\n",
    "model = Isomap(data.shape[0], latent_dim, Poincare)\n",
    "\n",
    "#optimizer = StandardOptim(model, lr=lr)\n",
    "optimizer = PoincareOptim(model, lr=lr)\n",
    "\n",
    "if __name__ == \"__main__\":\n",
    "    for i in range(num_epochs):\n",
    "        if normalize:\n",
    "            model.normalize()\n",
    "\n",
    "        # print('norms', vector_norm(model.embeddings, dim=-1).mean().item(), vector_norm(model.embeddings, dim=-1).max().item())\n",
    "\n",
    "        optimizer.zero_grad()\n",
    "        loss = model.loss_fun(data_dist_matrix)\n",
    "        loss.backward()\n",
    "        # print('grads', vector_norm(model.embeddings.grad, dim=-1).mean().item())\n",
    "        optimizer.step()\n",
    "        \n",
    "\n",
    "        if i % 10 == 0:\n",
    "            print(f'Epoch {i}, loss: {loss:.3f}')\n",
    "\n"
   ]
  },
  {
   "cell_type": "code",
   "execution_count": 8,
   "id": "9fba461e",
   "metadata": {},
   "outputs": [
    {
     "data": {
      "text/plain": [
       "10"
      ]
     },
     "execution_count": 8,
     "metadata": {},
     "output_type": "execute_result"
    }
   ],
   "source": [
    "data.shape[0]"
   ]
  },
  {
   "cell_type": "code",
   "execution_count": null,
   "id": "1fffe3f4",
   "metadata": {},
   "outputs": [],
   "source": []
  }
 ],
 "metadata": {
  "kernelspec": {
   "display_name": "Python 3 (ipykernel)",
   "language": "python",
   "name": "python3"
  },
  "language_info": {
   "codemirror_mode": {
    "name": "ipython",
    "version": 3
   },
   "file_extension": ".py",
   "mimetype": "text/x-python",
   "name": "python",
   "nbconvert_exporter": "python",
   "pygments_lexer": "ipython3",
   "version": "3.7.12"
  }
 },
 "nbformat": 4,
 "nbformat_minor": 5
}
